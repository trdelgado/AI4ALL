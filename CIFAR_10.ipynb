{
  "nbformat": 4,
  "nbformat_minor": 0,
  "metadata": {
    "colab": {
      "name": "CIFAR-10.ipynb",
      "version": "0.3.2",
      "provenance": [],
      "include_colab_link": true
    },
    "kernelspec": {
      "name": "python2",
      "display_name": "Python 2"
    },
    "accelerator": "GPU"
  },
  "cells": [
    {
      "cell_type": "markdown",
      "metadata": {
        "id": "view-in-github",
        "colab_type": "text"
      },
      "source": [
        "[View in Colaboratory](https://colab.research.google.com/github/trdelgado/AI4ALL-Regression/blob/master/CIFAR_10.ipynb)"
      ]
    },
    {
      "metadata": {
        "id": "aaKNDLT68sfj",
        "colab_type": "text"
      },
      "cell_type": "markdown",
      "source": [
        "# Load libraries and dataset"
      ]
    },
    {
      "metadata": {
        "id": "QrE6Vr4K6aD4",
        "colab_type": "code",
        "colab": {}
      },
      "cell_type": "code",
      "source": [
        "import numpy as np\n",
        "import keras\n",
        "from keras.datasets import cifar10\n",
        "from keras.models import Sequential\n",
        "from keras.layers import Dense, Dropout, Activation, Flatten\n",
        "from keras.layers import Conv2D, MaxPooling2D\n",
        "from keras.optimizers import SGD\n",
        "from keras.utils import print_summary, to_categorical"
      ],
      "execution_count": 0,
      "outputs": []
    },
    {
      "metadata": {
        "id": "VyD_Nbs36uj2",
        "colab_type": "code",
        "colab": {}
      },
      "cell_type": "code",
      "source": [
        "(x_train, y_train), (x_test, y_test) = cifar10.load_data()"
      ],
      "execution_count": 0,
      "outputs": []
    },
    {
      "metadata": {
        "id": "MfEZPoJ_AXwc",
        "colab_type": "code",
        "colab": {
          "base_uri": "https://localhost:8080/",
          "height": 86
        },
        "outputId": "aa0a756b-a58b-4ea4-bedf-71bf1ead7518"
      },
      "cell_type": "code",
      "source": [
        "print(x_train.shape)\n",
        "print(y_train.shape)\n",
        "print(x_test.shape)\n",
        "print(y_test.shape)"
      ],
      "execution_count": 47,
      "outputs": [
        {
          "output_type": "stream",
          "text": [
            "(50000, 32, 32, 3)\n",
            "(50000, 1)\n",
            "(10000, 32, 32, 3)\n",
            "(10000, 1)\n"
          ],
          "name": "stdout"
        }
      ]
    },
    {
      "metadata": {
        "id": "a-EiZ5QVAfar",
        "colab_type": "code",
        "colab": {
          "base_uri": "https://localhost:8080/",
          "height": 570
        },
        "outputId": "89b35a3f-4eee-4de3-9156-a6257624c42b"
      },
      "cell_type": "code",
      "source": [
        "print(x_test[0][0])"
      ],
      "execution_count": 48,
      "outputs": [
        {
          "output_type": "stream",
          "text": [
            "[[158 112  49]\n",
            " [159 111  47]\n",
            " [165 116  51]\n",
            " [166 118  53]\n",
            " [160 112  46]\n",
            " [156 109  41]\n",
            " [162 115  47]\n",
            " [159 113  45]\n",
            " [158 111  44]\n",
            " [159 113  41]\n",
            " [161 116  41]\n",
            " [160 111  52]\n",
            " [161 111  49]\n",
            " [166 117  41]\n",
            " [169 117  45]\n",
            " [170 119  44]\n",
            " [167 117  40]\n",
            " [162 113  38]\n",
            " [160 111  39]\n",
            " [160 112  43]\n",
            " [156 109  44]\n",
            " [149 107  45]\n",
            " [150 107  45]\n",
            " [148 106  43]\n",
            " [149 107  44]\n",
            " [143 101  39]\n",
            " [140  98  43]\n",
            " [141  97  41]\n",
            " [143  97  38]\n",
            " [137  95  36]\n",
            " [126  91  36]\n",
            " [116  85  33]]\n"
          ],
          "name": "stdout"
        }
      ]
    },
    {
      "metadata": {
        "id": "0XJEGMzDCFW-",
        "colab_type": "code",
        "colab": {
          "base_uri": "https://localhost:8080/",
          "height": 138
        },
        "outputId": "0506c215-692a-40b8-a0c4-3971f3738dd1"
      },
      "cell_type": "code",
      "source": [
        "print(y_test)"
      ],
      "execution_count": 49,
      "outputs": [
        {
          "output_type": "stream",
          "text": [
            "[[3]\n",
            " [8]\n",
            " [8]\n",
            " ...\n",
            " [5]\n",
            " [1]\n",
            " [7]]\n"
          ],
          "name": "stdout"
        }
      ]
    },
    {
      "metadata": {
        "id": "zoTNTm7T9l8X",
        "colab_type": "text"
      },
      "cell_type": "markdown",
      "source": [
        "# Data Preprocessing"
      ]
    },
    {
      "metadata": {
        "id": "cOg4VJKDDIBN",
        "colab_type": "code",
        "colab": {}
      },
      "cell_type": "code",
      "source": [
        "num_classes = 10\n",
        "y_train = to_categorical(y_train, num_classes)\n",
        "y_test = to_categorical(y_test, num_classes)"
      ],
      "execution_count": 0,
      "outputs": []
    },
    {
      "metadata": {
        "id": "63sOIN9pDtfl",
        "colab_type": "code",
        "colab": {
          "base_uri": "https://localhost:8080/",
          "height": 52
        },
        "outputId": "7549c10a-7675-4ae8-989d-46e54f3ee4b0"
      },
      "cell_type": "code",
      "source": [
        "print(y_train.shape)\n",
        "print(y_test.shape)"
      ],
      "execution_count": 51,
      "outputs": [
        {
          "output_type": "stream",
          "text": [
            "(50000, 10)\n",
            "(10000, 10)\n"
          ],
          "name": "stdout"
        }
      ]
    },
    {
      "metadata": {
        "id": "z7rb5v37_8Rk",
        "colab_type": "code",
        "colab": {}
      },
      "cell_type": "code",
      "source": [
        "x_train = x_train.astype('float32')\n",
        "x_test = x_test.astype('float32')\n",
        "x_train /= 250.0\n",
        "x_test /= 250.0"
      ],
      "execution_count": 0,
      "outputs": []
    },
    {
      "metadata": {
        "id": "Z9u9FimUJdsq",
        "colab_type": "code",
        "colab": {
          "base_uri": "https://localhost:8080/",
          "height": 570
        },
        "outputId": "d7808c6c-2194-4559-99a3-95ebea6d867b"
      },
      "cell_type": "code",
      "source": [
        "print(x_test[0][0])"
      ],
      "execution_count": 53,
      "outputs": [
        {
          "output_type": "stream",
          "text": [
            "[[0.632 0.448 0.196]\n",
            " [0.636 0.444 0.188]\n",
            " [0.66  0.464 0.204]\n",
            " [0.664 0.472 0.212]\n",
            " [0.64  0.448 0.184]\n",
            " [0.624 0.436 0.164]\n",
            " [0.648 0.46  0.188]\n",
            " [0.636 0.452 0.18 ]\n",
            " [0.632 0.444 0.176]\n",
            " [0.636 0.452 0.164]\n",
            " [0.644 0.464 0.164]\n",
            " [0.64  0.444 0.208]\n",
            " [0.644 0.444 0.196]\n",
            " [0.664 0.468 0.164]\n",
            " [0.676 0.468 0.18 ]\n",
            " [0.68  0.476 0.176]\n",
            " [0.668 0.468 0.16 ]\n",
            " [0.648 0.452 0.152]\n",
            " [0.64  0.444 0.156]\n",
            " [0.64  0.448 0.172]\n",
            " [0.624 0.436 0.176]\n",
            " [0.596 0.428 0.18 ]\n",
            " [0.6   0.428 0.18 ]\n",
            " [0.592 0.424 0.172]\n",
            " [0.596 0.428 0.176]\n",
            " [0.572 0.404 0.156]\n",
            " [0.56  0.392 0.172]\n",
            " [0.564 0.388 0.164]\n",
            " [0.572 0.388 0.152]\n",
            " [0.548 0.38  0.144]\n",
            " [0.504 0.364 0.144]\n",
            " [0.464 0.34  0.132]]\n"
          ],
          "name": "stdout"
        }
      ]
    },
    {
      "metadata": {
        "id": "Ark3t6go9QWB",
        "colab_type": "text"
      },
      "cell_type": "markdown",
      "source": [
        "# Model Building"
      ]
    },
    {
      "metadata": {
        "id": "9F2xVrkDMMQy",
        "colab_type": "code",
        "colab": {
          "base_uri": "https://localhost:8080/",
          "height": 967
        },
        "outputId": "26b16a41-202f-465b-a916-139f857de791"
      },
      "cell_type": "code",
      "source": [
        "net = Sequential()\n",
        "\n",
        "# Layer One\n",
        "net.add(Conv2D(64, (3,3), padding='same', input_shape = x_train.shape[1:]))\n",
        "net.add(Activation('relu'))\n",
        "net.add(MaxPooling2D(pool_size=(2,2)))\n",
        "net.add(Dropout(0.3))\n",
        "\n",
        "# Layer Two\n",
        "net.add(Conv2D(64, (3,3), padding='same', input_shape = x_train.shape[1:]))\n",
        "net.add(Activation('relu'))\n",
        "net.add(MaxPooling2D(pool_size=(2,2)))\n",
        "net.add(Dropout(0.3))\n",
        "\n",
        "# Layer Three\n",
        "net.add(Conv2D(32, (3,3), padding='same', input_shape = x_train.shape[1:]))\n",
        "net.add(Activation('relu'))\n",
        "net.add(MaxPooling2D(pool_size=(2,2)))\n",
        "net.add(Dropout(0.2))\n",
        "\n",
        "# Layer Four\n",
        "net.add(Conv2D(32, (3,3), padding='same', input_shape = x_train.shape[1:]))\n",
        "net.add(Activation('relu'))\n",
        "net.add(MaxPooling2D(pool_size=(2,2)))\n",
        "net.add(Dropout(0.2))\n",
        "\n",
        "# Layer Five\n",
        "net.add(Flatten())\n",
        "net.add(Dense(64))\n",
        "net.add(Activation('relu'))\n",
        "net.add(Dropout(0.1))\n",
        "\n",
        "# Layer Six\n",
        "net.add(Dense(32))\n",
        "net.add(Activation('relu'))\n",
        "net.add(Dense(num_classes))\n",
        "net.add(Activation('softmax'))\n",
        "net.summary()"
      ],
      "execution_count": 54,
      "outputs": [
        {
          "output_type": "stream",
          "text": [
            "_________________________________________________________________\n",
            "Layer (type)                 Output Shape              Param #   \n",
            "=================================================================\n",
            "conv2d_13 (Conv2D)           (None, 32, 32, 64)        1792      \n",
            "_________________________________________________________________\n",
            "activation_19 (Activation)   (None, 32, 32, 64)        0         \n",
            "_________________________________________________________________\n",
            "max_pooling2d_13 (MaxPooling (None, 16, 16, 64)        0         \n",
            "_________________________________________________________________\n",
            "dropout_16 (Dropout)         (None, 16, 16, 64)        0         \n",
            "_________________________________________________________________\n",
            "conv2d_14 (Conv2D)           (None, 16, 16, 64)        36928     \n",
            "_________________________________________________________________\n",
            "activation_20 (Activation)   (None, 16, 16, 64)        0         \n",
            "_________________________________________________________________\n",
            "max_pooling2d_14 (MaxPooling (None, 8, 8, 64)          0         \n",
            "_________________________________________________________________\n",
            "dropout_17 (Dropout)         (None, 8, 8, 64)          0         \n",
            "_________________________________________________________________\n",
            "conv2d_15 (Conv2D)           (None, 8, 8, 32)          18464     \n",
            "_________________________________________________________________\n",
            "activation_21 (Activation)   (None, 8, 8, 32)          0         \n",
            "_________________________________________________________________\n",
            "max_pooling2d_15 (MaxPooling (None, 4, 4, 32)          0         \n",
            "_________________________________________________________________\n",
            "dropout_18 (Dropout)         (None, 4, 4, 32)          0         \n",
            "_________________________________________________________________\n",
            "conv2d_16 (Conv2D)           (None, 4, 4, 32)          9248      \n",
            "_________________________________________________________________\n",
            "activation_22 (Activation)   (None, 4, 4, 32)          0         \n",
            "_________________________________________________________________\n",
            "max_pooling2d_16 (MaxPooling (None, 2, 2, 32)          0         \n",
            "_________________________________________________________________\n",
            "dropout_19 (Dropout)         (None, 2, 2, 32)          0         \n",
            "_________________________________________________________________\n",
            "flatten_4 (Flatten)          (None, 128)               0         \n",
            "_________________________________________________________________\n",
            "dense_7 (Dense)              (None, 64)                8256      \n",
            "_________________________________________________________________\n",
            "activation_23 (Activation)   (None, 64)                0         \n",
            "_________________________________________________________________\n",
            "dropout_20 (Dropout)         (None, 64)                0         \n",
            "_________________________________________________________________\n",
            "dense_8 (Dense)              (None, 32)                2080      \n",
            "_________________________________________________________________\n",
            "activation_24 (Activation)   (None, 32)                0         \n",
            "_________________________________________________________________\n",
            "dense_9 (Dense)              (None, 10)                330       \n",
            "_________________________________________________________________\n",
            "activation_25 (Activation)   (None, 10)                0         \n",
            "=================================================================\n",
            "Total params: 77,098\n",
            "Trainable params: 77,098\n",
            "Non-trainable params: 0\n",
            "_________________________________________________________________\n"
          ],
          "name": "stdout"
        }
      ]
    },
    {
      "metadata": {
        "id": "rnthsoyZPFwN",
        "colab_type": "code",
        "colab": {}
      },
      "cell_type": "code",
      "source": [
        "net.compile(loss='categorical_crossentropy', optimizer='adam', metrics=['accuracy'])"
      ],
      "execution_count": 0,
      "outputs": []
    },
    {
      "metadata": {
        "id": "eZ-ctaBX9dEa",
        "colab_type": "text"
      },
      "cell_type": "markdown",
      "source": [
        "# Train Model"
      ]
    },
    {
      "metadata": {
        "id": "N6YXEpulPtsn",
        "colab_type": "code",
        "colab": {
          "base_uri": "https://localhost:8080/",
          "height": 3506
        },
        "outputId": "46d0f5fd-9ab8-46b7-d1d5-9c6e387e78de"
      },
      "cell_type": "code",
      "source": [
        "batch_size = 128\n",
        "epochs = 100\n",
        "net.fit(x_train, y_train, batch_size=batch_size, epochs=epochs, validation_split=0.2, shuffle=True)"
      ],
      "execution_count": 56,
      "outputs": [
        {
          "output_type": "stream",
          "text": [
            "Train on 40000 samples, validate on 10000 samples\n",
            "Epoch 1/100\n",
            "40000/40000 [==============================] - 11s 281us/step - loss: 1.9549 - acc: 0.2553 - val_loss: 1.6781 - val_acc: 0.3701\n",
            "Epoch 2/100\n",
            "40000/40000 [==============================] - 10s 261us/step - loss: 1.6367 - acc: 0.3882 - val_loss: 1.4663 - val_acc: 0.4668\n",
            "Epoch 3/100\n",
            "40000/40000 [==============================] - 10s 259us/step - loss: 1.4816 - acc: 0.4494 - val_loss: 1.3264 - val_acc: 0.5227\n",
            "Epoch 4/100\n",
            "40000/40000 [==============================] - 10s 260us/step - loss: 1.3772 - acc: 0.4949 - val_loss: 1.2443 - val_acc: 0.5513\n",
            "Epoch 5/100\n",
            "40000/40000 [==============================] - 10s 258us/step - loss: 1.2987 - acc: 0.5249 - val_loss: 1.1812 - val_acc: 0.5719\n",
            "Epoch 6/100\n",
            "40000/40000 [==============================] - 10s 261us/step - loss: 1.2480 - acc: 0.5450 - val_loss: 1.1299 - val_acc: 0.6002\n",
            "Epoch 7/100\n",
            "40000/40000 [==============================] - 10s 254us/step - loss: 1.2044 - acc: 0.5647 - val_loss: 1.0709 - val_acc: 0.6237\n",
            "Epoch 8/100\n",
            "40000/40000 [==============================] - 10s 249us/step - loss: 1.1632 - acc: 0.5797 - val_loss: 1.0411 - val_acc: 0.6253\n",
            "Epoch 9/100\n",
            "40000/40000 [==============================] - 10s 250us/step - loss: 1.1262 - acc: 0.5949 - val_loss: 0.9801 - val_acc: 0.6573\n",
            "Epoch 10/100\n",
            "40000/40000 [==============================] - 10s 250us/step - loss: 1.0939 - acc: 0.6076 - val_loss: 0.9825 - val_acc: 0.6546\n",
            "Epoch 11/100\n",
            "40000/40000 [==============================] - 10s 250us/step - loss: 1.0703 - acc: 0.6184 - val_loss: 0.9574 - val_acc: 0.6623\n",
            "Epoch 12/100\n",
            "40000/40000 [==============================] - 10s 251us/step - loss: 1.0510 - acc: 0.6250 - val_loss: 0.9136 - val_acc: 0.6773\n",
            "Epoch 13/100\n",
            "40000/40000 [==============================] - 10s 251us/step - loss: 1.0181 - acc: 0.6363 - val_loss: 0.8871 - val_acc: 0.6869\n",
            "Epoch 14/100\n",
            "40000/40000 [==============================] - 10s 254us/step - loss: 1.0059 - acc: 0.6418 - val_loss: 0.8794 - val_acc: 0.6899\n",
            "Epoch 15/100\n",
            "40000/40000 [==============================] - 10s 254us/step - loss: 0.9959 - acc: 0.6468 - val_loss: 0.8609 - val_acc: 0.6981\n",
            "Epoch 16/100\n",
            "40000/40000 [==============================] - 10s 253us/step - loss: 0.9771 - acc: 0.6497 - val_loss: 0.8897 - val_acc: 0.6852\n",
            "Epoch 17/100\n",
            "40000/40000 [==============================] - 10s 254us/step - loss: 0.9688 - acc: 0.6559 - val_loss: 0.8707 - val_acc: 0.6956\n",
            "Epoch 18/100\n",
            "40000/40000 [==============================] - 10s 255us/step - loss: 0.9500 - acc: 0.6612 - val_loss: 0.8374 - val_acc: 0.7107\n",
            "Epoch 19/100\n",
            "40000/40000 [==============================] - 10s 253us/step - loss: 0.9409 - acc: 0.6637 - val_loss: 0.8459 - val_acc: 0.7078\n",
            "Epoch 20/100\n",
            "40000/40000 [==============================] - 10s 253us/step - loss: 0.9308 - acc: 0.6722 - val_loss: 0.8165 - val_acc: 0.7151\n",
            "Epoch 21/100\n",
            "40000/40000 [==============================] - 10s 249us/step - loss: 0.9239 - acc: 0.6727 - val_loss: 0.8028 - val_acc: 0.7198\n",
            "Epoch 22/100\n",
            "40000/40000 [==============================] - 10s 252us/step - loss: 0.9128 - acc: 0.6761 - val_loss: 0.8291 - val_acc: 0.7084\n",
            "Epoch 23/100\n",
            "40000/40000 [==============================] - 10s 250us/step - loss: 0.8974 - acc: 0.6802 - val_loss: 0.7772 - val_acc: 0.7290\n",
            "Epoch 24/100\n",
            "40000/40000 [==============================] - 10s 253us/step - loss: 0.8969 - acc: 0.6832 - val_loss: 0.7676 - val_acc: 0.7290\n",
            "Epoch 25/100\n",
            "40000/40000 [==============================] - 10s 252us/step - loss: 0.8828 - acc: 0.6895 - val_loss: 0.7779 - val_acc: 0.7288\n",
            "Epoch 26/100\n",
            "40000/40000 [==============================] - 10s 252us/step - loss: 0.8836 - acc: 0.6871 - val_loss: 0.7839 - val_acc: 0.7296\n",
            "Epoch 27/100\n",
            "40000/40000 [==============================] - 10s 253us/step - loss: 0.8804 - acc: 0.6889 - val_loss: 0.7857 - val_acc: 0.7213\n",
            "Epoch 28/100\n",
            "40000/40000 [==============================] - 10s 255us/step - loss: 0.8680 - acc: 0.6941 - val_loss: 0.7560 - val_acc: 0.7396\n",
            "Epoch 29/100\n",
            "40000/40000 [==============================] - 10s 253us/step - loss: 0.8536 - acc: 0.7001 - val_loss: 0.7754 - val_acc: 0.7301\n",
            "Epoch 30/100\n",
            "40000/40000 [==============================] - 10s 249us/step - loss: 0.8538 - acc: 0.6965 - val_loss: 0.7517 - val_acc: 0.7348\n",
            "Epoch 31/100\n",
            "40000/40000 [==============================] - 10s 251us/step - loss: 0.8521 - acc: 0.7002 - val_loss: 0.7829 - val_acc: 0.7228\n",
            "Epoch 32/100\n",
            "40000/40000 [==============================] - 10s 251us/step - loss: 0.8465 - acc: 0.7022 - val_loss: 0.7312 - val_acc: 0.7480\n",
            "Epoch 33/100\n",
            "40000/40000 [==============================] - 10s 251us/step - loss: 0.8442 - acc: 0.6996 - val_loss: 0.7344 - val_acc: 0.7392\n",
            "Epoch 34/100\n",
            "40000/40000 [==============================] - 10s 251us/step - loss: 0.8332 - acc: 0.7057 - val_loss: 0.7211 - val_acc: 0.7479\n",
            "Epoch 35/100\n",
            "40000/40000 [==============================] - 10s 255us/step - loss: 0.8208 - acc: 0.7108 - val_loss: 0.7557 - val_acc: 0.7303\n",
            "Epoch 36/100\n",
            "40000/40000 [==============================] - 10s 257us/step - loss: 0.8300 - acc: 0.7058 - val_loss: 0.7331 - val_acc: 0.7454\n",
            "Epoch 37/100\n",
            "40000/40000 [==============================] - 10s 256us/step - loss: 0.8192 - acc: 0.7137 - val_loss: 0.7107 - val_acc: 0.7524\n",
            "Epoch 38/100\n",
            "40000/40000 [==============================] - 10s 250us/step - loss: 0.8206 - acc: 0.7126 - val_loss: 0.7206 - val_acc: 0.7516\n",
            "Epoch 39/100\n",
            "40000/40000 [==============================] - 10s 251us/step - loss: 0.8173 - acc: 0.7130 - val_loss: 0.7243 - val_acc: 0.7451\n",
            "Epoch 40/100\n",
            "40000/40000 [==============================] - 10s 251us/step - loss: 0.8072 - acc: 0.7154 - val_loss: 0.7131 - val_acc: 0.7536\n",
            "Epoch 41/100\n",
            "40000/40000 [==============================] - 10s 251us/step - loss: 0.8058 - acc: 0.7147 - val_loss: 0.7034 - val_acc: 0.7584\n",
            "Epoch 42/100\n",
            "40000/40000 [==============================] - 10s 250us/step - loss: 0.8020 - acc: 0.7195 - val_loss: 0.7077 - val_acc: 0.7491\n",
            "Epoch 43/100\n",
            "40000/40000 [==============================] - 10s 251us/step - loss: 0.7956 - acc: 0.7213 - val_loss: 0.7170 - val_acc: 0.7482\n",
            "Epoch 44/100\n",
            "40000/40000 [==============================] - 10s 252us/step - loss: 0.7990 - acc: 0.7197 - val_loss: 0.7016 - val_acc: 0.7558\n",
            "Epoch 45/100\n",
            "40000/40000 [==============================] - 10s 250us/step - loss: 0.7874 - acc: 0.7224 - val_loss: 0.7201 - val_acc: 0.7500\n",
            "Epoch 46/100\n",
            "40000/40000 [==============================] - 10s 251us/step - loss: 0.7907 - acc: 0.7211 - val_loss: 0.7749 - val_acc: 0.7303\n",
            "Epoch 47/100\n",
            "40000/40000 [==============================] - 10s 250us/step - loss: 0.7897 - acc: 0.7200 - val_loss: 0.6884 - val_acc: 0.7587\n",
            "Epoch 48/100\n",
            "40000/40000 [==============================] - 10s 251us/step - loss: 0.7899 - acc: 0.7198 - val_loss: 0.7065 - val_acc: 0.7530\n",
            "Epoch 49/100\n",
            "40000/40000 [==============================] - 10s 250us/step - loss: 0.7835 - acc: 0.7225 - val_loss: 0.6830 - val_acc: 0.7634\n",
            "Epoch 50/100\n",
            "40000/40000 [==============================] - 10s 252us/step - loss: 0.7860 - acc: 0.7220 - val_loss: 0.7634 - val_acc: 0.7366\n",
            "Epoch 51/100\n",
            "40000/40000 [==============================] - 10s 252us/step - loss: 0.7778 - acc: 0.7281 - val_loss: 0.6967 - val_acc: 0.7579\n",
            "Epoch 52/100\n",
            "40000/40000 [==============================] - 10s 252us/step - loss: 0.7671 - acc: 0.7291 - val_loss: 0.6961 - val_acc: 0.7582\n",
            "Epoch 53/100\n",
            "40000/40000 [==============================] - 10s 253us/step - loss: 0.7729 - acc: 0.7277 - val_loss: 0.7018 - val_acc: 0.7574\n",
            "Epoch 54/100\n",
            "40000/40000 [==============================] - 10s 253us/step - loss: 0.7703 - acc: 0.7325 - val_loss: 0.6826 - val_acc: 0.7626\n",
            "Epoch 55/100\n",
            "40000/40000 [==============================] - 10s 255us/step - loss: 0.7643 - acc: 0.7317 - val_loss: 0.6698 - val_acc: 0.7649\n",
            "Epoch 56/100\n",
            "40000/40000 [==============================] - 10s 254us/step - loss: 0.7639 - acc: 0.7314 - val_loss: 0.6707 - val_acc: 0.7682\n",
            "Epoch 57/100\n",
            "40000/40000 [==============================] - 10s 254us/step - loss: 0.7638 - acc: 0.7304 - val_loss: 0.6975 - val_acc: 0.7535\n",
            "Epoch 58/100\n",
            "40000/40000 [==============================] - 10s 254us/step - loss: 0.7597 - acc: 0.7338 - val_loss: 0.6804 - val_acc: 0.7607\n",
            "Epoch 59/100\n",
            "40000/40000 [==============================] - 10s 257us/step - loss: 0.7584 - acc: 0.7335 - val_loss: 0.6865 - val_acc: 0.7617\n",
            "Epoch 60/100\n",
            "40000/40000 [==============================] - 10s 254us/step - loss: 0.7552 - acc: 0.7319 - val_loss: 0.6916 - val_acc: 0.7621\n",
            "Epoch 61/100\n",
            "40000/40000 [==============================] - 10s 251us/step - loss: 0.7558 - acc: 0.7339 - val_loss: 0.6611 - val_acc: 0.7692\n",
            "Epoch 62/100\n",
            "40000/40000 [==============================] - 10s 250us/step - loss: 0.7555 - acc: 0.7341 - val_loss: 0.6732 - val_acc: 0.7670\n",
            "Epoch 63/100\n",
            "40000/40000 [==============================] - 10s 251us/step - loss: 0.7562 - acc: 0.7344 - val_loss: 0.7602 - val_acc: 0.7330\n",
            "Epoch 64/100\n",
            "40000/40000 [==============================] - 10s 251us/step - loss: 0.7546 - acc: 0.7357 - val_loss: 0.6826 - val_acc: 0.7619\n",
            "Epoch 65/100\n",
            "40000/40000 [==============================] - 10s 250us/step - loss: 0.7542 - acc: 0.7356 - val_loss: 0.6862 - val_acc: 0.7637\n",
            "Epoch 66/100\n",
            "40000/40000 [==============================] - 10s 251us/step - loss: 0.7422 - acc: 0.7390 - val_loss: 0.6594 - val_acc: 0.7701\n",
            "Epoch 67/100\n",
            "40000/40000 [==============================] - 10s 253us/step - loss: 0.7403 - acc: 0.7406 - val_loss: 0.6443 - val_acc: 0.7771\n",
            "Epoch 68/100\n",
            "40000/40000 [==============================] - 10s 253us/step - loss: 0.7390 - acc: 0.7391 - val_loss: 0.6599 - val_acc: 0.7742\n",
            "Epoch 69/100\n",
            "40000/40000 [==============================] - 10s 251us/step - loss: 0.7377 - acc: 0.7412 - val_loss: 0.6575 - val_acc: 0.7741\n",
            "Epoch 70/100\n",
            "40000/40000 [==============================] - 10s 253us/step - loss: 0.7377 - acc: 0.7431 - val_loss: 0.6934 - val_acc: 0.7607\n",
            "Epoch 71/100\n",
            "40000/40000 [==============================] - 10s 251us/step - loss: 0.7398 - acc: 0.7405 - val_loss: 0.6582 - val_acc: 0.7722\n",
            "Epoch 72/100\n",
            "40000/40000 [==============================] - 10s 251us/step - loss: 0.7348 - acc: 0.7416 - val_loss: 0.6613 - val_acc: 0.7741\n",
            "Epoch 73/100\n",
            "40000/40000 [==============================] - 10s 252us/step - loss: 0.7366 - acc: 0.7399 - val_loss: 0.6575 - val_acc: 0.7724\n",
            "Epoch 74/100\n",
            "40000/40000 [==============================] - 10s 251us/step - loss: 0.7350 - acc: 0.7419 - val_loss: 0.6717 - val_acc: 0.7673\n",
            "Epoch 75/100\n",
            "40000/40000 [==============================] - 10s 250us/step - loss: 0.7307 - acc: 0.7449 - val_loss: 0.6413 - val_acc: 0.7791\n",
            "Epoch 76/100\n",
            "40000/40000 [==============================] - 10s 249us/step - loss: 0.7335 - acc: 0.7422 - val_loss: 0.6586 - val_acc: 0.7766\n",
            "Epoch 77/100\n",
            "40000/40000 [==============================] - 10s 250us/step - loss: 0.7317 - acc: 0.7418 - val_loss: 0.6320 - val_acc: 0.7790\n",
            "Epoch 78/100\n",
            "40000/40000 [==============================] - 10s 250us/step - loss: 0.7239 - acc: 0.7428 - val_loss: 0.6391 - val_acc: 0.7757\n",
            "Epoch 79/100\n",
            "40000/40000 [==============================] - 10s 252us/step - loss: 0.7276 - acc: 0.7442 - val_loss: 0.6417 - val_acc: 0.7771\n",
            "Epoch 80/100\n",
            "40000/40000 [==============================] - 10s 250us/step - loss: 0.7126 - acc: 0.7483 - val_loss: 0.6697 - val_acc: 0.7687\n",
            "Epoch 81/100\n",
            "40000/40000 [==============================] - 10s 251us/step - loss: 0.7270 - acc: 0.7452 - val_loss: 0.6651 - val_acc: 0.7697\n",
            "Epoch 82/100\n",
            "40000/40000 [==============================] - 10s 252us/step - loss: 0.7243 - acc: 0.7453 - val_loss: 0.6518 - val_acc: 0.7766\n",
            "Epoch 83/100\n",
            "40000/40000 [==============================] - 10s 252us/step - loss: 0.7239 - acc: 0.7473 - val_loss: 0.6513 - val_acc: 0.7726\n",
            "Epoch 84/100\n",
            "40000/40000 [==============================] - 10s 252us/step - loss: 0.7149 - acc: 0.7489 - val_loss: 0.6328 - val_acc: 0.7837\n",
            "Epoch 85/100\n",
            "40000/40000 [==============================] - 10s 251us/step - loss: 0.7171 - acc: 0.7474 - val_loss: 0.6537 - val_acc: 0.7768\n",
            "Epoch 86/100\n",
            "40000/40000 [==============================] - 10s 252us/step - loss: 0.7164 - acc: 0.7470 - val_loss: 0.6417 - val_acc: 0.7801\n",
            "Epoch 87/100\n",
            "40000/40000 [==============================] - 10s 252us/step - loss: 0.7159 - acc: 0.7497 - val_loss: 0.6376 - val_acc: 0.7777\n",
            "Epoch 88/100\n",
            "40000/40000 [==============================] - 10s 253us/step - loss: 0.7088 - acc: 0.7507 - val_loss: 0.6466 - val_acc: 0.7743\n",
            "Epoch 89/100\n",
            "40000/40000 [==============================] - 11s 263us/step - loss: 0.7121 - acc: 0.7514 - val_loss: 0.6359 - val_acc: 0.7772\n",
            "Epoch 90/100\n",
            "40000/40000 [==============================] - 10s 254us/step - loss: 0.7075 - acc: 0.7516 - val_loss: 0.6507 - val_acc: 0.7772\n",
            "Epoch 91/100\n",
            "40000/40000 [==============================] - 10s 253us/step - loss: 0.7119 - acc: 0.7500 - val_loss: 0.6223 - val_acc: 0.7846\n",
            "Epoch 92/100\n",
            "40000/40000 [==============================] - 10s 251us/step - loss: 0.7125 - acc: 0.7493 - val_loss: 0.6479 - val_acc: 0.7744\n",
            "Epoch 93/100\n",
            "40000/40000 [==============================] - 10s 252us/step - loss: 0.7017 - acc: 0.7528 - val_loss: 0.6755 - val_acc: 0.7662\n",
            "Epoch 94/100\n",
            "40000/40000 [==============================] - 10s 252us/step - loss: 0.7111 - acc: 0.7509 - val_loss: 0.6730 - val_acc: 0.7650\n",
            "Epoch 95/100\n",
            "40000/40000 [==============================] - 10s 252us/step - loss: 0.7022 - acc: 0.7519 - val_loss: 0.6348 - val_acc: 0.7819\n",
            "Epoch 96/100\n",
            "40000/40000 [==============================] - 10s 253us/step - loss: 0.7025 - acc: 0.7530 - val_loss: 0.6710 - val_acc: 0.7692\n",
            "Epoch 97/100\n",
            "40000/40000 [==============================] - 10s 252us/step - loss: 0.7000 - acc: 0.7539 - val_loss: 0.6435 - val_acc: 0.7758\n",
            "Epoch 98/100\n",
            "40000/40000 [==============================] - 10s 256us/step - loss: 0.7050 - acc: 0.7514 - val_loss: 0.6307 - val_acc: 0.7807\n",
            "Epoch 99/100\n",
            "40000/40000 [==============================] - 10s 253us/step - loss: 0.6958 - acc: 0.7554 - val_loss: 0.6293 - val_acc: 0.7793\n",
            "Epoch 100/100\n",
            "40000/40000 [==============================] - 10s 251us/step - loss: 0.7013 - acc: 0.7533 - val_loss: 0.6268 - val_acc: 0.7857\n"
          ],
          "name": "stdout"
        },
        {
          "output_type": "execute_result",
          "data": {
            "text/plain": [
              "<keras.callbacks.History at 0x7f4e1357cc10>"
            ]
          },
          "metadata": {
            "tags": []
          },
          "execution_count": 56
        }
      ]
    },
    {
      "metadata": {
        "id": "FQu2LV8p9a0G",
        "colab_type": "text"
      },
      "cell_type": "markdown",
      "source": [
        "# Test Model Performance"
      ]
    },
    {
      "metadata": {
        "id": "g2hQuSIbP8c6",
        "colab_type": "code",
        "colab": {
          "base_uri": "https://localhost:8080/",
          "height": 52
        },
        "outputId": "2e26803c-5154-418b-e989-ad08b2f831a6"
      },
      "cell_type": "code",
      "source": [
        "scores = net.evaluate(x_test, y_test, verbose=0)\n",
        "print('Test Loss:', scores[0])\n",
        "print('Test accuracy:', scores[1])"
      ],
      "execution_count": 57,
      "outputs": [
        {
          "output_type": "stream",
          "text": [
            "('Test Loss:', 0.6489376555919647)\n",
            "('Test accuracy:', 0.7767)\n"
          ],
          "name": "stdout"
        }
      ]
    }
  ]
}