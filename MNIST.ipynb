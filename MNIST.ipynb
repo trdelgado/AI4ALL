{
  "nbformat": 4,
  "nbformat_minor": 0,
  "metadata": {
    "colab": {
      "name": "MNIST.ipynb",
      "version": "0.3.2",
      "provenance": [],
      "include_colab_link": true
    },
    "kernelspec": {
      "name": "python3",
      "display_name": "Python 3"
    },
    "accelerator": "GPU"
  },
  "cells": [
    {
      "cell_type": "markdown",
      "metadata": {
        "id": "view-in-github",
        "colab_type": "text"
      },
      "source": [
        "[View in Colaboratory](https://colab.research.google.com/github/trdelgado/AI4ALL/blob/master/MNIST.ipynb)"
      ]
    },
    {
      "metadata": {
        "id": "gR6cluHY5JpI",
        "colab_type": "text"
      },
      "cell_type": "markdown",
      "source": [
        "# Load libraries and dataset"
      ]
    },
    {
      "metadata": {
        "id": "ptR9JyVb5I53",
        "colab_type": "code",
        "colab": {
          "base_uri": "https://localhost:8080/",
          "height": 35
        },
        "outputId": "0c5d8aa1-b406-4f3a-9a8c-804fbeb25471"
      },
      "cell_type": "code",
      "source": [
        "import numpy as np\n",
        "import keras\n",
        "from keras.datasets import mnist\n",
        "from keras.models import Sequential\n",
        "from keras.layers import Dense, Dropout, Activation, Flatten\n",
        "from keras.layers import Conv2D, MaxPooling2D\n",
        "from keras.optimizers import SGD\n",
        "from keras.utils import print_summary, to_categorical"
      ],
      "execution_count": 2,
      "outputs": [
        {
          "output_type": "stream",
          "text": [
            "Using TensorFlow backend.\n"
          ],
          "name": "stderr"
        }
      ]
    },
    {
      "metadata": {
        "id": "NeT_9JVw4xiG",
        "colab_type": "code",
        "colab": {
          "base_uri": "https://localhost:8080/",
          "height": 52
        },
        "outputId": "42e8c5bb-5485-48d8-88cb-b30c0073cddb"
      },
      "cell_type": "code",
      "source": [
        "(x_train, y_train), (x_test, y_test) = mnist.load_data()"
      ],
      "execution_count": 3,
      "outputs": [
        {
          "output_type": "stream",
          "text": [
            "Downloading data from https://s3.amazonaws.com/img-datasets/mnist.npz\n",
            "11493376/11490434 [==============================] - 2s 0us/step\n"
          ],
          "name": "stdout"
        }
      ]
    },
    {
      "metadata": {
        "id": "P5CfbUq55sXB",
        "colab_type": "text"
      },
      "cell_type": "markdown",
      "source": [
        "# Data Preprocessing"
      ]
    },
    {
      "metadata": {
        "id": "OAJ8fkYu6cfa",
        "colab_type": "code",
        "colab": {}
      },
      "cell_type": "code",
      "source": [
        "num_classes = 10\n",
        "y_train = to_categorical(y_train, num_classes)\n",
        "y_test = to_categorical(y_test, num_classes)"
      ],
      "execution_count": 0,
      "outputs": []
    },
    {
      "metadata": {
        "id": "plB7I_g_6lRC",
        "colab_type": "code",
        "colab": {}
      },
      "cell_type": "code",
      "source": [
        "x_train = x_train.reshape(x_train.shape[0], 28, 28, 1).astype('float32')\n",
        "x_test = x_test.reshape(x_test.shape[0], 28, 28, 1).astype('float32')\n",
        "x_train /= 250.0\n",
        "x_test /= 250.0"
      ],
      "execution_count": 0,
      "outputs": []
    },
    {
      "metadata": {
        "id": "5xLXAZ0V5tIw",
        "colab_type": "text"
      },
      "cell_type": "markdown",
      "source": [
        "# Model Building"
      ]
    },
    {
      "metadata": {
        "id": "qngHXbGZ7V-3",
        "colab_type": "code",
        "colab": {
          "base_uri": "https://localhost:8080/",
          "height": 622
        },
        "outputId": "451c24db-0ae5-451a-c5be-f45cc6b2032d"
      },
      "cell_type": "code",
      "source": [
        "net = Sequential()\n",
        "\n",
        "# Layer One\n",
        "net.add(Conv2D(64, (3,3), input_shape=x_train.shape[1:], activation='relu'))\n",
        "net.add(MaxPooling2D(pool_size=(2,2)))\n",
        "net.add(Dropout(0.3))\n",
        "\n",
        "# Layer Two\n",
        "net.add(Conv2D(32, (3,3), input_shape=x_train.shape[1:], activation='relu'))\n",
        "net.add(MaxPooling2D(pool_size=(2,2)))\n",
        "net.add(Dropout(0.3))\n",
        "\n",
        "# Layer Three\n",
        "net.add(Flatten())\n",
        "net.add(Dense(64))\n",
        "net.add(Activation('relu'))\n",
        "net.add(Dropout(0.1))\n",
        "\n",
        "# Layer Four\n",
        "net.add(Dense(32))\n",
        "net.add(Activation('relu'))\n",
        "net.add(Dense(num_classes))\n",
        "net.add(Activation('softmax'))\n",
        "net.summary()"
      ],
      "execution_count": 7,
      "outputs": [
        {
          "output_type": "stream",
          "text": [
            "_________________________________________________________________\n",
            "Layer (type)                 Output Shape              Param #   \n",
            "=================================================================\n",
            "conv2d_1 (Conv2D)            (None, 26, 26, 64)        640       \n",
            "_________________________________________________________________\n",
            "max_pooling2d_1 (MaxPooling2 (None, 13, 13, 64)        0         \n",
            "_________________________________________________________________\n",
            "dropout_1 (Dropout)          (None, 13, 13, 64)        0         \n",
            "_________________________________________________________________\n",
            "conv2d_2 (Conv2D)            (None, 11, 11, 32)        18464     \n",
            "_________________________________________________________________\n",
            "max_pooling2d_2 (MaxPooling2 (None, 5, 5, 32)          0         \n",
            "_________________________________________________________________\n",
            "dropout_2 (Dropout)          (None, 5, 5, 32)          0         \n",
            "_________________________________________________________________\n",
            "flatten_1 (Flatten)          (None, 800)               0         \n",
            "_________________________________________________________________\n",
            "dense_1 (Dense)              (None, 64)                51264     \n",
            "_________________________________________________________________\n",
            "activation_1 (Activation)    (None, 64)                0         \n",
            "_________________________________________________________________\n",
            "dropout_3 (Dropout)          (None, 64)                0         \n",
            "_________________________________________________________________\n",
            "dense_2 (Dense)              (None, 32)                2080      \n",
            "_________________________________________________________________\n",
            "activation_2 (Activation)    (None, 32)                0         \n",
            "_________________________________________________________________\n",
            "dense_3 (Dense)              (None, 10)                330       \n",
            "_________________________________________________________________\n",
            "activation_3 (Activation)    (None, 10)                0         \n",
            "=================================================================\n",
            "Total params: 72,778\n",
            "Trainable params: 72,778\n",
            "Non-trainable params: 0\n",
            "_________________________________________________________________\n"
          ],
          "name": "stdout"
        }
      ]
    },
    {
      "metadata": {
        "id": "bQ7gNoIHMC6F",
        "colab_type": "code",
        "colab": {}
      },
      "cell_type": "code",
      "source": [
        "net.compile(loss='categorical_crossentropy', optimizer='adam', metrics=['accuracy'])"
      ],
      "execution_count": 0,
      "outputs": []
    },
    {
      "metadata": {
        "id": "HvwERE9u5zCc",
        "colab_type": "text"
      },
      "cell_type": "markdown",
      "source": [
        "# Train Model"
      ]
    },
    {
      "metadata": {
        "id": "pRpe2uMqMFU-",
        "colab_type": "code",
        "colab": {
          "base_uri": "https://localhost:8080/",
          "height": 397
        },
        "outputId": "2c259cc7-2341-4890-bea5-84a2aa044d74"
      },
      "cell_type": "code",
      "source": [
        "batch_size = 32\n",
        "epochs = 10\n",
        "net.fit(x_train, y_train, batch_size=batch_size, epochs=epochs, validation_split=0.2, shuffle=True)"
      ],
      "execution_count": 9,
      "outputs": [
        {
          "output_type": "stream",
          "text": [
            "Train on 48000 samples, validate on 12000 samples\n",
            "Epoch 1/10\n",
            "48000/48000 [==============================] - 21s 440us/step - loss: 0.2856 - acc: 0.9084 - val_loss: 0.0702 - val_acc: 0.9799\n",
            "Epoch 2/10\n",
            "48000/48000 [==============================] - 19s 401us/step - loss: 0.0952 - acc: 0.9716 - val_loss: 0.0584 - val_acc: 0.9826\n",
            "Epoch 3/10\n",
            "48000/48000 [==============================] - 19s 399us/step - loss: 0.0769 - acc: 0.9761 - val_loss: 0.0436 - val_acc: 0.9872\n",
            "Epoch 4/10\n",
            "48000/48000 [==============================] - 19s 396us/step - loss: 0.0628 - acc: 0.9811 - val_loss: 0.0405 - val_acc: 0.9877\n",
            "Epoch 5/10\n",
            "48000/48000 [==============================] - 19s 399us/step - loss: 0.0557 - acc: 0.9830 - val_loss: 0.0397 - val_acc: 0.9899\n",
            "Epoch 6/10\n",
            "48000/48000 [==============================] - 19s 398us/step - loss: 0.0497 - acc: 0.9845 - val_loss: 0.0367 - val_acc: 0.9901\n",
            "Epoch 7/10\n",
            "48000/48000 [==============================] - 19s 404us/step - loss: 0.0476 - acc: 0.9854 - val_loss: 0.0381 - val_acc: 0.9908\n",
            "Epoch 8/10\n",
            "48000/48000 [==============================] - 19s 397us/step - loss: 0.0434 - acc: 0.9866 - val_loss: 0.0373 - val_acc: 0.9901\n",
            "Epoch 9/10\n",
            "48000/48000 [==============================] - 19s 397us/step - loss: 0.0413 - acc: 0.9869 - val_loss: 0.0352 - val_acc: 0.9907\n",
            "Epoch 10/10\n",
            "48000/48000 [==============================] - 19s 395us/step - loss: 0.0382 - acc: 0.9879 - val_loss: 0.0374 - val_acc: 0.9912\n"
          ],
          "name": "stdout"
        },
        {
          "output_type": "execute_result",
          "data": {
            "text/plain": [
              "<keras.callbacks.History at 0x7f04983df438>"
            ]
          },
          "metadata": {
            "tags": []
          },
          "execution_count": 9
        }
      ]
    },
    {
      "metadata": {
        "id": "Pew-XhIFOJET",
        "colab_type": "text"
      },
      "cell_type": "markdown",
      "source": [
        "# Test Model Performance"
      ]
    },
    {
      "metadata": {
        "id": "TO0HRhrnOIb4",
        "colab_type": "code",
        "colab": {
          "base_uri": "https://localhost:8080/",
          "height": 52
        },
        "outputId": "b547bb39-11f0-41ad-abd3-af9bcd6355f6"
      },
      "cell_type": "code",
      "source": [
        "scores = net.evaluate(x_test, y_test, verbose=0)\n",
        "print('Test Loss:', scores[0])\n",
        "print('Test accuracy:', scores[1])"
      ],
      "execution_count": 10,
      "outputs": [
        {
          "output_type": "stream",
          "text": [
            "Test Loss: 0.03374891567948507\n",
            "Test accuracy: 0.9906\n"
          ],
          "name": "stdout"
        }
      ]
    }
  ]
}